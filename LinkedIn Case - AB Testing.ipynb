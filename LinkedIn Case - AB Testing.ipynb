{
 "cells": [
  {
   "cell_type": "markdown",
   "metadata": {},
   "source": [
    "## 1. LinkedIn: A/B Testing Invitation to connect email campaign\n",
    "A/B tested email subject line:\n",
    "- A: “Do you know Miguel Fuentes?”\n",
    "- B: “Do you know Miguel Fuentes fellow ESADE graduate?”\n",
    "\n",
    "We have chosen **engagement** as a metric (number of clicks per visitors) and will perform an A/B test to discover whether B causes more engagement than their old email marketing campaign A.<br>\n",
    "<br>\n",
    "The dataset \"website.csv\" information recorded on LinkedIn's website of all visitors, assigned to A or B in this experiment. \n",
    "<br>\n",
    "The data contains information about 7 weeks. **Important Note: The experiment started on the first day of Week 3.**"
   ]
  },
  {
   "cell_type": "code",
   "execution_count": 29,
   "metadata": {},
   "outputs": [
    {
     "data": {
      "text/html": [
       "<div>\n",
       "<style scoped>\n",
       "    .dataframe tbody tr th:only-of-type {\n",
       "        vertical-align: middle;\n",
       "    }\n",
       "\n",
       "    .dataframe tbody tr th {\n",
       "        vertical-align: top;\n",
       "    }\n",
       "\n",
       "    .dataframe thead th {\n",
       "        text-align: right;\n",
       "    }\n",
       "</style>\n",
       "<table border=\"1\" class=\"dataframe\">\n",
       "  <thead>\n",
       "    <tr style=\"text-align: right;\">\n",
       "      <th></th>\n",
       "      <th>id</th>\n",
       "      <th>clicks</th>\n",
       "      <th>cond</th>\n",
       "      <th>week</th>\n",
       "    </tr>\n",
       "  </thead>\n",
       "  <tbody>\n",
       "    <tr>\n",
       "      <th>22247</th>\n",
       "      <td>121905</td>\n",
       "      <td>27</td>\n",
       "      <td>A</td>\n",
       "      <td>1</td>\n",
       "    </tr>\n",
       "    <tr>\n",
       "      <th>63789</th>\n",
       "      <td>121905</td>\n",
       "      <td>27</td>\n",
       "      <td>A</td>\n",
       "      <td>2</td>\n",
       "    </tr>\n",
       "    <tr>\n",
       "      <th>105331</th>\n",
       "      <td>121905</td>\n",
       "      <td>36</td>\n",
       "      <td>A</td>\n",
       "      <td>3</td>\n",
       "    </tr>\n",
       "    <tr>\n",
       "      <th>146873</th>\n",
       "      <td>121905</td>\n",
       "      <td>24</td>\n",
       "      <td>A</td>\n",
       "      <td>4</td>\n",
       "    </tr>\n",
       "    <tr>\n",
       "      <th>188415</th>\n",
       "      <td>121905</td>\n",
       "      <td>24</td>\n",
       "      <td>A</td>\n",
       "      <td>5</td>\n",
       "    </tr>\n",
       "    <tr>\n",
       "      <th>229957</th>\n",
       "      <td>121905</td>\n",
       "      <td>27</td>\n",
       "      <td>A</td>\n",
       "      <td>6</td>\n",
       "    </tr>\n",
       "    <tr>\n",
       "      <th>271499</th>\n",
       "      <td>121905</td>\n",
       "      <td>19</td>\n",
       "      <td>A</td>\n",
       "      <td>7</td>\n",
       "    </tr>\n",
       "    <tr>\n",
       "      <th>5398</th>\n",
       "      <td>121930</td>\n",
       "      <td>8</td>\n",
       "      <td>B</td>\n",
       "      <td>1</td>\n",
       "    </tr>\n",
       "    <tr>\n",
       "      <th>46940</th>\n",
       "      <td>121930</td>\n",
       "      <td>7</td>\n",
       "      <td>B</td>\n",
       "      <td>2</td>\n",
       "    </tr>\n",
       "    <tr>\n",
       "      <th>88482</th>\n",
       "      <td>121930</td>\n",
       "      <td>8</td>\n",
       "      <td>B</td>\n",
       "      <td>3</td>\n",
       "    </tr>\n",
       "    <tr>\n",
       "      <th>130024</th>\n",
       "      <td>121930</td>\n",
       "      <td>15</td>\n",
       "      <td>B</td>\n",
       "      <td>4</td>\n",
       "    </tr>\n",
       "    <tr>\n",
       "      <th>171566</th>\n",
       "      <td>121930</td>\n",
       "      <td>21</td>\n",
       "      <td>B</td>\n",
       "      <td>5</td>\n",
       "    </tr>\n",
       "    <tr>\n",
       "      <th>213108</th>\n",
       "      <td>121930</td>\n",
       "      <td>5</td>\n",
       "      <td>B</td>\n",
       "      <td>6</td>\n",
       "    </tr>\n",
       "    <tr>\n",
       "      <th>26732</th>\n",
       "      <td>121947</td>\n",
       "      <td>24</td>\n",
       "      <td>B</td>\n",
       "      <td>1</td>\n",
       "    </tr>\n",
       "  </tbody>\n",
       "</table>\n",
       "</div>"
      ],
      "text/plain": [
       "            id  clicks cond  week\n",
       "22247   121905      27    A     1\n",
       "63789   121905      27    A     2\n",
       "105331  121905      36    A     3\n",
       "146873  121905      24    A     4\n",
       "188415  121905      24    A     5\n",
       "229957  121905      27    A     6\n",
       "271499  121905      19    A     7\n",
       "5398    121930       8    B     1\n",
       "46940   121930       7    B     2\n",
       "88482   121930       8    B     3\n",
       "130024  121930      15    B     4\n",
       "171566  121930      21    B     5\n",
       "213108  121930       5    B     6\n",
       "26732   121947      24    B     1"
      ]
     },
     "execution_count": 29,
     "metadata": {},
     "output_type": "execute_result"
    },
    {
     "data": {
      "text/plain": [
       "(149013, 4)"
      ]
     },
     "execution_count": 29,
     "metadata": {},
     "output_type": "execute_result"
    }
   ],
   "source": [
    "from IPython.core.interactiveshell import InteractiveShell\n",
    "InteractiveShell.ast_node_interactivity = \"all\"\n",
    "\n",
    "import pandas as pd\n",
    "from matplotlib import pyplot as plt\n",
    "import numpy as np\n",
    "\n",
    "# load data\n",
    "website = pd.read_csv('https://raw.githubusercontent.com/amazirnim/linkedin/main/website.csv',index_col=0)\n",
    "website.sort_values(by=['id','week']).head(14)\n",
    "website.shape"
   ]
  },
  {
   "cell_type": "markdown",
   "metadata": {},
   "source": [
    "# 2. Analysis unit ≠ Randomisation unit\n",
    "\n",
    "We observe a first problem that would bias our statistical analysis. The unit of analysis is different than the unit of randomisation.\n",
    "- Unit of Randomisation: Each user_Id\n",
    "- Unit of Analysis: User per week\n",
    "\n",
    "This is a problem because the user_id that we observe over the weeks are **not independent observations** (i.e. a user that clicks 25 times week 4 is also likely to also clicks around 25 times the other weeks).\n",
    "\n",
    "However, the statistical software assumes every observation is independant.\n",
    "\n",
    "**Solution**: Aggregate data to level of randomisation:\n",
    "We will **analyse users instead of users per week**. To do so, we will combine the number of clicks for each specific user for week 1 and 2 (the baseline) and for week 3 to 7 (where we perform the experiment)."
   ]
  },
  {
   "cell_type": "markdown",
   "metadata": {},
   "source": [
    "# 2.1. Difference between group A and B in Baseline (Week 1 and 2)\n",
    "There should be **no difference** between the group A and B in week 1 and 2, since we didn't bring any change yet. "
   ]
  },
  {
   "cell_type": "code",
   "execution_count": 30,
   "metadata": {},
   "outputs": [
    {
     "data": {
      "text/html": [
       "<div>\n",
       "<style scoped>\n",
       "    .dataframe tbody tr th:only-of-type {\n",
       "        vertical-align: middle;\n",
       "    }\n",
       "\n",
       "    .dataframe tbody tr th {\n",
       "        vertical-align: top;\n",
       "    }\n",
       "\n",
       "    .dataframe thead th {\n",
       "        text-align: right;\n",
       "    }\n",
       "</style>\n",
       "<table border=\"1\" class=\"dataframe\">\n",
       "  <thead>\n",
       "    <tr style=\"text-align: right;\">\n",
       "      <th></th>\n",
       "      <th>id</th>\n",
       "      <th>clicks</th>\n",
       "      <th>cond</th>\n",
       "    </tr>\n",
       "  </thead>\n",
       "  <tbody>\n",
       "    <tr>\n",
       "      <th>0</th>\n",
       "      <td>121905</td>\n",
       "      <td>54</td>\n",
       "      <td>A</td>\n",
       "    </tr>\n",
       "    <tr>\n",
       "      <th>1</th>\n",
       "      <td>121930</td>\n",
       "      <td>15</td>\n",
       "      <td>B</td>\n",
       "    </tr>\n",
       "    <tr>\n",
       "      <th>2</th>\n",
       "      <td>121947</td>\n",
       "      <td>38</td>\n",
       "      <td>B</td>\n",
       "    </tr>\n",
       "    <tr>\n",
       "      <th>3</th>\n",
       "      <td>122021</td>\n",
       "      <td>9</td>\n",
       "      <td>A</td>\n",
       "    </tr>\n",
       "    <tr>\n",
       "      <th>4</th>\n",
       "      <td>122028</td>\n",
       "      <td>3</td>\n",
       "      <td>A</td>\n",
       "    </tr>\n",
       "  </tbody>\n",
       "</table>\n",
       "</div>"
      ],
      "text/plain": [
       "       id  clicks cond\n",
       "0  121905      54    A\n",
       "1  121930      15    B\n",
       "2  121947      38    B\n",
       "3  122021       9    A\n",
       "4  122028       3    A"
      ]
     },
     "execution_count": 30,
     "metadata": {},
     "output_type": "execute_result"
    },
    {
     "data": {
      "text/plain": [
       "(22244, 3)"
      ]
     },
     "execution_count": 30,
     "metadata": {},
     "output_type": "execute_result"
    }
   ],
   "source": [
    "# Combining clicks for weeks 1 and 2\n",
    "baseline = website[website['week'] <= 2]\n",
    "pivoted = baseline.groupby('id').agg({'clicks':'sum'}) \n",
    "baseline = baseline.drop(['clicks', 'week'], axis=1).drop_duplicates()\n",
    "before_treatment = pivoted.merge(baseline, on = 'id', how='left')\n",
    "before_treatment.head()\n",
    "before_treatment.shape"
   ]
  },
  {
   "cell_type": "code",
   "execution_count": 31,
   "metadata": {},
   "outputs": [
    {
     "name": "stdout",
     "output_type": "stream",
     "text": [
      "\n",
      "###### BASELINE ######\n",
      "\n",
      "WEEK 1 AND 2 - GROUP A\n",
      "\n",
      "422221 clicks\n",
      "11171 users\n",
      "18.9 average click per user (User Engagement)\n",
      "\n",
      "WEEK 1 AND 2 - GROUP B\n",
      "\n",
      "420527 clicks\n",
      "11073 users\n",
      "18.99 average click per user (User Engagement)\n"
     ]
    }
   ],
   "source": [
    "a_baseline = before_treatment[before_treatment['cond'] == 'A']\n",
    "b_baseline = before_treatment[before_treatment['cond'] == 'B']\n",
    "\n",
    "print()\n",
    "print('###### BASELINE ######')\n",
    "print()\n",
    "print('WEEK 1 AND 2 - GROUP A')\n",
    "print()\n",
    "print(a_baseline.clicks.sum(),'clicks')\n",
    "print(a_baseline.clicks.count(), 'users')\n",
    "print(round(a_baseline.clicks.mean(), 2)/2, 'average click per user (User Engagement)')\n",
    "\n",
    "print()\n",
    "print('WEEK 1 AND 2 - GROUP B')\n",
    "print()\n",
    "print(b_baseline.clicks.sum(), 'clicks')\n",
    "print(b_baseline.clicks.count(), 'users')\n",
    "print(round(b_baseline.clicks.mean(), 2)/2, 'average click per user (User Engagement)')"
   ]
  },
  {
   "cell_type": "markdown",
   "metadata": {},
   "source": [
    "**We observe no difference between the two groups as expected. It looks like the number of users, number of clicks and the user engagement is similar between the two groups.**"
   ]
  },
  {
   "cell_type": "markdown",
   "metadata": {},
   "source": [
    "# 2.2. Difference between group A and B in Treatment (Week 3 to 7)\n",
    "\n",
    "Reminder:\n",
    "- A: “Do you know Miguel Fuentes?” (Control Group)\n",
    "- B: “Do you know Miguel Fuentes fellow ESADE graduate?” (Treatment Group)"
   ]
  },
  {
   "cell_type": "code",
   "execution_count": 32,
   "metadata": {},
   "outputs": [
    {
     "data": {
      "text/html": [
       "<div>\n",
       "<style scoped>\n",
       "    .dataframe tbody tr th:only-of-type {\n",
       "        vertical-align: middle;\n",
       "    }\n",
       "\n",
       "    .dataframe tbody tr th {\n",
       "        vertical-align: top;\n",
       "    }\n",
       "\n",
       "    .dataframe thead th {\n",
       "        text-align: right;\n",
       "    }\n",
       "</style>\n",
       "<table border=\"1\" class=\"dataframe\">\n",
       "  <thead>\n",
       "    <tr style=\"text-align: right;\">\n",
       "      <th></th>\n",
       "      <th>id</th>\n",
       "      <th>clicks</th>\n",
       "      <th>cond</th>\n",
       "    </tr>\n",
       "  </thead>\n",
       "  <tbody>\n",
       "    <tr>\n",
       "      <th>0</th>\n",
       "      <td>121905</td>\n",
       "      <td>130</td>\n",
       "      <td>A</td>\n",
       "    </tr>\n",
       "    <tr>\n",
       "      <th>1</th>\n",
       "      <td>121930</td>\n",
       "      <td>49</td>\n",
       "      <td>B</td>\n",
       "    </tr>\n",
       "    <tr>\n",
       "      <th>2</th>\n",
       "      <td>121947</td>\n",
       "      <td>90</td>\n",
       "      <td>B</td>\n",
       "    </tr>\n",
       "    <tr>\n",
       "      <th>3</th>\n",
       "      <td>121971</td>\n",
       "      <td>4</td>\n",
       "      <td>B</td>\n",
       "    </tr>\n",
       "    <tr>\n",
       "      <th>4</th>\n",
       "      <td>122021</td>\n",
       "      <td>25</td>\n",
       "      <td>A</td>\n",
       "    </tr>\n",
       "  </tbody>\n",
       "</table>\n",
       "</div>"
      ],
      "text/plain": [
       "       id  clicks cond\n",
       "0  121905     130    A\n",
       "1  121930      49    B\n",
       "2  121947      90    B\n",
       "3  121971       4    B\n",
       "4  122021      25    A"
      ]
     },
     "execution_count": 32,
     "metadata": {},
     "output_type": "execute_result"
    },
    {
     "data": {
      "text/plain": [
       "(25670, 3)"
      ]
     },
     "execution_count": 32,
     "metadata": {},
     "output_type": "execute_result"
    }
   ],
   "source": [
    "# Combining clicks for weeks 3 to 2\n",
    "treatment = website[website['week'] > 2]\n",
    "pivoted = treatment.groupby('id').agg({'clicks':'sum'})\n",
    "treatment = treatment.drop(['clicks', 'week'], axis=1).drop_duplicates()\n",
    "after_treatment = pivoted.merge(treatment, on = 'id', how='left')\n",
    "after_treatment.head()\n",
    "after_treatment.shape"
   ]
  },
  {
   "cell_type": "code",
   "execution_count": 33,
   "metadata": {},
   "outputs": [
    {
     "name": "stdout",
     "output_type": "stream",
     "text": [
      "\n",
      "###### AFTER TREATMENT ######\n",
      "\n",
      "WEEK 3 to 7 - GROUP A (Control)\n",
      "\n",
      "1051611 clicks\n",
      "12197 users\n",
      "17.244 average click per user (User Engagement)\n",
      "\n",
      "WEEK 3 to 7 - GROUP B (Treatment)\n",
      "\n",
      "1101263 clicks\n",
      "13473 users\n",
      "16.348 average click per user (User Engagement)\n"
     ]
    }
   ],
   "source": [
    "a_treatment = after_treatment[after_treatment['cond'] == 'A']\n",
    "b_treatment = after_treatment[after_treatment['cond'] == 'B']\n",
    "\n",
    "print()\n",
    "print('###### AFTER TREATMENT ######')\n",
    "print()\n",
    "print('WEEK 3 to 7 - GROUP A (Control)')\n",
    "print()\n",
    "print(a_treatment.clicks.sum(),'clicks')\n",
    "print(a_treatment.clicks.count(), 'users')\n",
    "print(round(a_treatment.clicks.mean(), 2)/5, 'average click per user (User Engagement)')\n",
    "\n",
    "print()\n",
    "print('WEEK 3 to 7 - GROUP B (Treatment)')\n",
    "print()\n",
    "print(b_treatment.clicks.sum(), 'clicks')\n",
    "print(b_treatment.clicks.count(), 'users')\n",
    "print(round(b_treatment.clicks.mean(), 2)/5, 'average click per user (User Engagement)')"
   ]
  },
  {
   "cell_type": "markdown",
   "metadata": {},
   "source": [
    "# 2.3. Let's see if there is statistical significance between the Engagement of Group A and Group B"
   ]
  },
  {
   "cell_type": "code",
   "execution_count": 34,
   "metadata": {},
   "outputs": [
    {
     "data": {
      "text/html": [
       "<div>\n",
       "<style scoped>\n",
       "    .dataframe tbody tr th:only-of-type {\n",
       "        vertical-align: middle;\n",
       "    }\n",
       "\n",
       "    .dataframe tbody tr th {\n",
       "        vertical-align: top;\n",
       "    }\n",
       "\n",
       "    .dataframe thead th {\n",
       "        text-align: right;\n",
       "    }\n",
       "</style>\n",
       "<table border=\"1\" class=\"dataframe\">\n",
       "  <thead>\n",
       "    <tr style=\"text-align: right;\">\n",
       "      <th>cond</th>\n",
       "      <th>A</th>\n",
       "      <th>B</th>\n",
       "    </tr>\n",
       "  </thead>\n",
       "  <tbody>\n",
       "    <tr>\n",
       "      <th>clicks</th>\n",
       "      <td>17.283683</td>\n",
       "      <td>16.361002</td>\n",
       "    </tr>\n",
       "    <tr>\n",
       "      <th>clicks</th>\n",
       "      <td>17.290800</td>\n",
       "      <td>16.314389</td>\n",
       "    </tr>\n",
       "    <tr>\n",
       "      <th>clicks</th>\n",
       "      <td>17.342320</td>\n",
       "      <td>16.420605</td>\n",
       "    </tr>\n",
       "    <tr>\n",
       "      <th>clicks</th>\n",
       "      <td>17.285958</td>\n",
       "      <td>16.636468</td>\n",
       "    </tr>\n",
       "    <tr>\n",
       "      <th>clicks</th>\n",
       "      <td>17.351678</td>\n",
       "      <td>16.390177</td>\n",
       "    </tr>\n",
       "    <tr>\n",
       "      <th>...</th>\n",
       "      <td>...</td>\n",
       "      <td>...</td>\n",
       "    </tr>\n",
       "    <tr>\n",
       "      <th>clicks</th>\n",
       "      <td>17.213305</td>\n",
       "      <td>16.356640</td>\n",
       "    </tr>\n",
       "    <tr>\n",
       "      <th>clicks</th>\n",
       "      <td>17.061541</td>\n",
       "      <td>16.200104</td>\n",
       "    </tr>\n",
       "    <tr>\n",
       "      <th>clicks</th>\n",
       "      <td>17.439319</td>\n",
       "      <td>16.544915</td>\n",
       "    </tr>\n",
       "    <tr>\n",
       "      <th>clicks</th>\n",
       "      <td>17.162876</td>\n",
       "      <td>16.401921</td>\n",
       "    </tr>\n",
       "    <tr>\n",
       "      <th>clicks</th>\n",
       "      <td>17.043533</td>\n",
       "      <td>16.279294</td>\n",
       "    </tr>\n",
       "  </tbody>\n",
       "</table>\n",
       "<p>300 rows × 2 columns</p>\n",
       "</div>"
      ],
      "text/plain": [
       "cond            A          B\n",
       "clicks  17.283683  16.361002\n",
       "clicks  17.290800  16.314389\n",
       "clicks  17.342320  16.420605\n",
       "clicks  17.285958  16.636468\n",
       "clicks  17.351678  16.390177\n",
       "...           ...        ...\n",
       "clicks  17.213305  16.356640\n",
       "clicks  17.061541  16.200104\n",
       "clicks  17.439319  16.544915\n",
       "clicks  17.162876  16.401921\n",
       "clicks  17.043533  16.279294\n",
       "\n",
       "[300 rows x 2 columns]"
      ]
     },
     "execution_count": 34,
     "metadata": {},
     "output_type": "execute_result"
    },
    {
     "data": {
      "text/plain": [
       "<matplotlib.axes._subplots.AxesSubplot at 0x7faaa402fd90>"
      ]
     },
     "execution_count": 34,
     "metadata": {},
     "output_type": "execute_result"
    },
    {
     "data": {
      "image/png": "[encoded data removed]",
      "text/plain": [
       "<Figure size 432x288 with 1 Axes>"
      ]
     },
     "metadata": {
      "needs_background": "light"
     },
     "output_type": "display_data"
    }
   ],
   "source": [
    "confidence = []\n",
    "# Iterate 300 times this experiment.\n",
    "for i in range(300):\n",
    "    mean_clicks = after_treatment.sample(frac=1, replace = True).groupby('cond')['clicks'].mean()/5\n",
    "    confidence.append(mean_clicks)\n",
    "    \n",
    "# Transforming the list to a DataFrame\n",
    "confidence = pd.DataFrame(confidence) \n",
    "confidence\n",
    "\n",
    "# A Kernel Density Estimate plot of the bootstrap distributions\n",
    "confidence.plot.kde()"
   ]
  },
  {
   "cell_type": "code",
   "execution_count": 35,
   "metadata": {},
   "outputs": [
    {
     "data": {
      "text/plain": [
       "Text(0.5, 0, 'difference')"
      ]
     },
     "execution_count": 35,
     "metadata": {},
     "output_type": "execute_result"
    },
    {
     "data": {
      "image/png": "[encoded data removed]",
      "text/plain": [
       "<Figure size 432x288 with 1 Axes>"
      ]
     },
     "metadata": {
      "needs_background": "light"
     },
     "output_type": "display_data"
    }
   ],
   "source": [
    "# Adding a column with the % difference between the two A and B groups\n",
    "confidence['diff'] = (confidence['B'] - confidence['A'])/confidence['A']*100\n",
    "\n",
    "# Ploting the bootstrap % difference\n",
    "ax = confidence['diff'].plot.kde()\n",
    "ax.set_xlabel(\"difference\")"
   ]
  },
  {
   "cell_type": "code",
   "execution_count": 36,
   "metadata": {},
   "outputs": [
    {
     "name": "stdout",
     "output_type": "stream",
     "text": [
      "1.0\n"
     ]
    }
   ],
   "source": [
    "# Calculating the probability that the group a and b are different during the baseline week.\n",
    "prob = (confidence['diff'] < 0.0).sum()/(confidence['diff'] < 0).count()\n",
    "\n",
    "# Pretty printing the probability\n",
    "print(prob)"
   ]
  },
  {
   "cell_type": "markdown",
   "metadata": {},
   "source": [
    "**So we are confident to say that A: “Do you know Miguel Fuentes?”(Control) is significantly better than B: “Do you know Miguel Fuentes fellow ESADE graduate?” (Treatment)?**\n",
    "<br>\n",
    "<br>\n",
    "<br>\n",
    "<br>\n",
    "<br>\n",
    "...\n",
    "<br>\n",
    "<br>\n",
    "<br>\n",
    "<br>\n",
    "<br>\n",
    "\n",
    "**No. Actually, if we have a closer look at the data, we observe that our key metric of User Engagement (number of clicks per user) have indeed decreased with the Treatment B. However, the number of unique users and total number of clicks has actually increased with Treatment B (from 12197 users to 13473 users). Why is that?** "
   ]
  },
  {
   "cell_type": "markdown",
   "metadata": {},
   "source": [
    "# 3. Introducing the Self-selection Bias\n",
    "\n",
    "We should be careful with the **SELF-SELECTION BIAS**. Emails are usually sent to members independent of whether they visit the online site or not. Here we are introducing a bias, because if the treatment email (B: “Do you know Miguel Fuentes fellow ESADE graduate?”) has a more attractive subject line, it will encourage more members to click and visit the website. As a result, we will see a drop in key performance metrics such as the number of clicks per users because the email of Group B attracts more less engaged members to visit LinkedIn.\n",
    "\n",
    "\n",
    "We discovered that the Group B (Treatment) actually brought more unique users on-board. And those users are not users that engage a lot with the product:\n",
    "- **High engagement users** are likely to click in both links and visit many pages afterwards.\n",
    "- **Low engagement users** are more likely to click in the B option but visit fewer pages afterwards. They will lower the engagement metric in the B group. Therefore, we will observe a decrease in the number of clicks per user! Contrarily, low engagement users will ignore the mail A, increasing the proportion of high engagement users in the sample A.\n",
    "\n",
    "\n",
    "\n",
    "To solve this issue there are three solutions:\n",
    "1. Experiment with **Random Assignment** (not allowing users to self-select by clicking on the email link). However, we cannot apply this method since in a email campaign, users have the ability to choose whether to click or not.\n",
    "2. We can use an **Intention-to-Treat** method were we do not measure the engagement of those who clicked on the link but we could look at everyone that has received the email (whether they clicked on the email or not).\n",
    "3. We can use a **Within-person before-after** method where we observe if a specific user \"X\" has an increase in engagement in the baseline weeks (week 1 and 2) vs the treatment weeks (week 3 to 7). "
   ]
  },
  {
   "cell_type": "markdown",
   "metadata": {},
   "source": [
    "# 4. Conclusion\n",
    "\n",
    "- A/B testing is a way to evaluate the impact of any change on user engagement and is a very useful tool to make data-driven decisions. \n",
    "- However, controlled experiments also face challenges and pitfalls that we should be aware of to avoid making biased decisions. "
   ]
  }
 ],
 "metadata": {
  "kernelspec": {
   "display_name": "Python 3",
   "language": "python",
   "name": "python3"
  },
  "language_info": {
   "codemirror_mode": {
    "name": "ipython",
    "version": 3
   },
   "file_extension": ".py",
   "mimetype": "text/x-python",
   "name": "python",
   "nbconvert_exporter": "python",
   "pygments_lexer": "ipython3",
   "version": "3.7.6"
  }
 },
 "nbformat": 4,
 "nbformat_minor": 4
}
